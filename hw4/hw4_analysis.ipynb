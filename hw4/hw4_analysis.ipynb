{
 "cells": [
  {
   "cell_type": "code",
   "execution_count": null,
   "metadata": {},
   "outputs": [],
   "source": [
    "#find the most abundant complaint type for Jan2020-Feb2020\n",
    "jan_feb_complaint = \"X-Ray Machine/Equipment\"\n",
    "jan_feb_num = 16242\n",
    "\n",
    "#find most abundant complaint for June-July 2020\n",
    "jun_jul_complaint = \"X-Ray Machine/Equipment\"\n",
    "jun_jul_num = 34002"
   ]
  },
  {
   "cell_type": "code",
   "execution_count": null,
   "metadata": {},
   "outputs": [],
   "source": [
    "import pandas as pd\n",
    "import matplotlib as plt \n",
    "\n",
    "months = [\"Jan-Feb 2020\", \"Jun-Jul 2020\"]\n",
    "num_complaints = [jan_feb_num, jun_jul_num]\n",
    "\n",
    "#create bar chart \n",
    "plt.bar(months, num_complaints)\n",
    "\n",
    "plt.title = \"Most Abundant Complaints in NYC 2020\"\n",
    "plt.xlabel = \"Time Period (Months)\"\n",
    "plt.ylabel = \"Number of Complaints\"\n",
    "\n",
    "plt.show()"
   ]
  }
 ],
 "metadata": {
  "language_info": {
   "name": "python"
  },
  "orig_nbformat": 4
 },
 "nbformat": 4,
 "nbformat_minor": 2
}
